{
 "cells": [
  {
   "cell_type": "code",
   "execution_count": 1,
   "id": "38c343d1-8173-453f-a372-a521ecd5e63b",
   "metadata": {},
   "outputs": [],
   "source": [
    "import pandas as pd\n",
    "import numpy as np"
   ]
  },
  {
   "cell_type": "code",
   "execution_count": 2,
   "id": "847907b9-c7a2-44fb-890d-2fa874b09f0b",
   "metadata": {},
   "outputs": [],
   "source": [
    "previous_df = pd.read_csv('EPA_IRIS_Assessments_2021_clean-2021-08.csv')\n",
    "new_df = pd.read_csv('EPA_IRIS_Assessments_2021_clean-2021-11-20.csv')"
   ]
  },
  {
   "cell_type": "code",
   "execution_count": 3,
   "id": "c216b077-0556-4828-b9ea-cb296ae5a328",
   "metadata": {},
   "outputs": [
    {
     "name": "stdout",
     "output_type": "stream",
     "text": [
      "False\n"
     ]
    }
   ],
   "source": [
    "print(previous_df.equals(new_df))"
   ]
  },
  {
   "cell_type": "code",
   "execution_count": 4,
   "id": "919d8567-2c3a-418d-b1dd-a535aac58e97",
   "metadata": {},
   "outputs": [
    {
     "name": "stdout",
     "output_type": "stream",
     "text": [
      "Shape of previous dataframe: (692, 28)\n",
      "\n",
      "Shape of newest dataframe: (692, 28)\n",
      "\n"
     ]
    }
   ],
   "source": [
    "print('Shape of previous dataframe: ' + str(previous_df.shape) + '\\n')\n",
    "print('Shape of newest dataframe: ' + str(new_df.shape) + '\\n')"
   ]
  },
  {
   "cell_type": "code",
   "execution_count": 5,
   "id": "146c5287-0e58-4272-b9dc-da8ef66462f4",
   "metadata": {},
   "outputs": [],
   "source": [
    "previous_df = previous_df.fillna('')\n",
    "new_df = new_df.fillna('')"
   ]
  },
  {
   "cell_type": "code",
   "execution_count": 6,
   "id": "efe19e6f-51ea-441e-96f4-686c710484ea",
   "metadata": {},
   "outputs": [
    {
     "name": "stdout",
     "output_type": "stream",
     "text": [
      "UPDATE TO CHEMICAL FOUND (ROW 114): tert-Butyl Alcohol (tBA)\n",
      "UPDATE TO CHEMICAL FOUND (ROW 115): tert-Butyl Alcohol (tBA)\n",
      "UPDATE TO CHEMICAL FOUND (ROW 320): Ethyl Tertiary Butyl Ether (ETBE)\n",
      "UPDATE TO CHEMICAL FOUND (ROW 321): Ethyl Tertiary Butyl Ether (ETBE)\n"
     ]
    }
   ],
   "source": [
    "num_rows = previous_df.shape[0]\n",
    "num_columns = previous_df.shape[1]\n",
    "\n",
    "updated_chemicals = []\n",
    "\n",
    "for i in range(num_rows):\n",
    "    # for j in range(num_columns):\n",
    "    if not previous_df.iloc[i, :].equals(new_df.iloc[i, :]):\n",
    "        print(\"UPDATE TO CHEMICAL FOUND (ROW \" + str(i) + \"): \" + previous_df.iloc[i, 0])"
   ]
  },
  {
   "cell_type": "code",
   "execution_count": null,
   "id": "fd17fc47-9127-435c-b2b3-54c4cf911377",
   "metadata": {},
   "outputs": [],
   "source": []
  }
 ],
 "metadata": {
  "kernelspec": {
   "display_name": "Python 3 (ipykernel)",
   "language": "python",
   "name": "python3"
  },
  "language_info": {
   "codemirror_mode": {
    "name": "ipython",
    "version": 3
   },
   "file_extension": ".py",
   "mimetype": "text/x-python",
   "name": "python",
   "nbconvert_exporter": "python",
   "pygments_lexer": "ipython3",
   "version": "3.8.8"
  }
 },
 "nbformat": 4,
 "nbformat_minor": 5
}
