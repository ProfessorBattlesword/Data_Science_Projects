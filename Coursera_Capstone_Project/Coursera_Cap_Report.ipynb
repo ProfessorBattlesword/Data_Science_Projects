{
 "cells": [
  {
   "cell_type": "markdown",
   "id": "0436353e-682c-4b2e-98de-6709eb69ebf8",
   "metadata": {},
   "source": [
    "# Company Expansion in Most Populous Cities of the United States"
   ]
  },
  {
   "cell_type": "markdown",
   "id": "c6dd2fb6-2a46-4de8-b246-e192eafde9b1",
   "metadata": {},
   "source": [
    "## Abstract"
   ]
  },
  {
   "cell_type": "markdown",
   "id": "5fdb9bb7-fa07-455d-86e8-87c892f0b6cb",
   "metadata": {},
   "source": [
    "A preliminary investigation shows that Denver, Colorado; Seattle, Washington; Charlotte, North Carolina; Austin, Texas; and Fort Worth, Texas are promising candidates for Company X to expand its services to. Each city has similar top-rated venues and population demographics. Furthermore, investigation of each of these five cities shows the postal code boundaries of where the most popular venues reside suggesting a generalized location within each of the five cities to further consider where Company X should expand. In particular, Austin and Fort Worth, Texas appear to be particularly good candidates for possible future expansion within the whole state while allowing for potential expansion outside of the state in various regions across the United States."
   ]
  },
  {
   "cell_type": "markdown",
   "id": "f83e8b93-fbcc-4359-8d14-d6caee011243",
   "metadata": {},
   "source": [
    "## Introduction"
   ]
  },
  {
   "cell_type": "markdown",
   "id": "84326572-aafa-4569-bcf3-58f72a2f0c79",
   "metadata": {},
   "source": [
    "Company X wishes to branch out their business chain by opening new locations in ideal US cities. To identify which US cities might be ideal candidates as well as ideal locations within those cities we explore relationships between the most populous US cities and the types of venues that correspond to each. We will then perform agglomerative hierarchical clustering to see which of the most populous US cities might be worthy of looking into further. The hierarchical clustering will be based on population, population change (percent increase/decrease), and the 100 top-rated types of venues that exist within them (near the city centers). Once the hierarchical clustering is completed, a more in-depth study can then be performed by Company X. Therefore, this work is a preliminary investigation step for Company X's expansion prospects.\n",
    "\n",
    "For those who may not be familiar with agglomerative hierarchical clustering please visit the following link: https://en.wikipedia.org/wiki/Hierarchical_clustering."
   ]
  },
  {
   "cell_type": "markdown",
   "id": "9eb6a48b-1c36-4ba6-9224-0f60d4e2f8b5",
   "metadata": {},
   "source": [
    "## Methodology"
   ]
  },
  {
   "cell_type": "markdown",
   "id": "332b2a1c-30f7-4120-931f-ab2aa02ab6f2",
   "metadata": {},
   "source": [
    "Firstly, we note that the goal of this study is to perform a preliminary investigation of what cities *might* be good candidats for Company X to expand their chain. Our approach is to (1) use hierarchical clusering to cluster some of the most populous cities based on total population, high population growth, and popular venues in close proximity to each city's geographical center; (2) select a small group of similar cities from the hierarchical clustering for further investigation as to where expansion might be recommended. In order to perform the hierarchical clustering, we need to find appropriate data sources for the most populous US cities as well as the top-rated venues within the city centers. A quick google search and webscrape is performed with the following wikipedia page: https://en.wikipedia.org/wiki/List_of_United_States_cities_by_population. We obtain the venue data by leveraging the Foursquare API. Once the data from both sources is collected and cleaned, we perform agglomerative hierarchical clustering. Once the clustering is performed, we make a small selection of similar cities and investigate total top-rated venues within postal code boundaries. The hypothesis here is that if the expansion of Company X's chain in one city proves to be successful, then expansion into other like cities should have a high probability of being met with similar success."
   ]
  },
  {
   "cell_type": "markdown",
   "id": "94bce040-3165-4744-8ead-f181160692a1",
   "metadata": {},
   "source": [
    "### Data Collection and Data Cleaning\n",
    "\n",
    "The wikipedia page linked in the above paragraph contains a table whose row entries are the most populous US cities with a total of 317 row entries (i.e. the table consists of the 317 most populous US cities). See the table below for the column names and their description:\n",
    "\n",
    "| Column Name | Descritpion of Column |\n",
    "|-------------|-----------------------|\n",
    "| 2020 rank | Ordinal ranking of the city by its population in descending order. |\n",
    "| City | Name of the city. |\n",
    "| State | State in which the city is located. |\n",
    "| 2020 estimate | Population estimate as of the year 2020. |\n",
    "| Change | Percent change in population from the year 2010 to the year 2020. |\n",
    "| 2016 land area | Land area as defined in the year 2016; given both in square miles and square kilometers. |\n",
    "| 2016 population density | Population density for the year 2016; given both as per square mile and per square kilometer. |\n",
    "| Location | GCS latitude and longitude coordinates. |"
   ]
  },
  {
   "cell_type": "markdown",
   "id": "28d3863f-c1b9-4aa1-a260-5e22c7cd9d2a",
   "metadata": {},
   "source": [
    "See Figure 1 for a snapshot of the first few rows of the dataframe obtained from the initial, raw webscrape. The table is clearly not easily readable or convenient for feature use in its raw form. To clean the dataframe we drop the \"2020rank\" column as this is an unnecessary feature since we can just use the index of the dataframe to determine rank (if desired at a later stage). The column names are changed for convenience of referencing. Leftover characters that show as superscripts in the html page from the raw scrape are present in the \"City\" column and therefore those need tidying up. The \"Change\" column should be expressed without the \"+\" and \"%\" characters and converted to type float. The location column is quite messy and decimal format is adopted for the latitude and longitude values.\n",
    "\n",
    "Furthermore, growth of a city is an important metric here. In general, we wish to select those cities that are not only high in population, but also high in population growth as this will potentially increase revenue over time (the higher the population, the higher potential cutsomers). Therefore, during the cleaning process we restrict the percent change to be only those most populous US cities that are seeing at least 20% growth in their population. See Figure 2 for a snapshot of the cleaned dataframe of only those cities with at least a 20% population increase from 2010 to 2020.\n",
    "\n",
    "![](./Capstone_Report_Pics/raw_us_cities_df_webscrape.png)\n",
    "\n",
    "*Figure 1: Screen capture of the first five rows of the dataframe formed from webscraping the most populous US cities table from https://en.wikipedia.org/wiki/List_of_United_States_cities_by_population*."
   ]
  },
  {
   "cell_type": "markdown",
   "id": "44a9636c-7382-4af0-90a1-9201f8db51d1",
   "metadata": {},
   "source": [
    "![](./Capstone_Report_Pics/clean_us_cities_df_webscrape.png)\n",
    "\n",
    "*Figure 2: Snapshot of clean dataframe of the 47 most populous US cities with at least 20% population increase from 2010 to 2020. Only 32 cities are shown.*"
   ]
  },
  {
   "cell_type": "markdown",
   "id": "35bbce71-c502-4b09-b149-c10a3d12fdda",
   "metadata": {},
   "source": [
    "We use folium to map out the 47 cities that have the highest population influx just to get a general idea of how these cities are distributed. See Figure 3 for a snapshot of the folium map generated. Something important to note which is discussed later is the fact that the state of Texas conains several of these high-influx cities.\n",
    "\n",
    "![](./Capstone_Report_Pics/high_influx_cities_map.png)\n",
    "\n",
    "*Figure 3: Map of most populous US cities for which the population influx is at least 20%. Influx between 20-30% in blue; influx between 30-40% in orange; influx between 40-50% in green; and influx >50% in red.*"
   ]
  },
  {
   "cell_type": "markdown",
   "id": "8f772436-4f30-4db6-a665-6996a6699d70",
   "metadata": {},
   "source": [
    "### Data Transformation"
   ]
  },
  {
   "cell_type": "markdown",
   "id": "00325666-7a77-48af-9120-02e761ee5bd0",
   "metadata": {},
   "source": [
    "Now that we have an idea of which highly populated cities are seeing high population growth, we seek to obtain the top-rated venue types within each. For this we leverage the Foursquare API, and form a dataframe with the cities as row entries and columns containing venue types. A free account with the Foursquare API can only return a maximum of 100 venues. Therefore, for each of the 47 high-influx cities we explore the 100 top-rated venues within 16.1 km ($\\approx$10 miles) of each city's center and form the initial dataframe containing a value count for each of the of the types of venues. We then merge the venue count of each type of the top-rated venues with the total population and population growth from the previous dataframe. See Figure 4 for a snapshot of the merged dataframe.\n",
    "\n",
    "![City Venues and Pop Demograhics Dataframe](./Capstone_Report_Pics/city_venues_w_pop_df.png)\n",
    "\n",
    "*Figure 4: Merged dataframe of population demographics and venue counts of 100 top-rated venues returned by Foursquare API. Includes all venue types and their counts from all 47 high-influx cities combined.*"
   ]
  },
  {
   "cell_type": "markdown",
   "id": "d5ae8729-f782-4019-8d8d-5df3714a7b0c",
   "metadata": {},
   "source": [
    "What's left to do is normalize the dataframe in Figure 4, and perform agglomerative hierarchical clustering with these 47 high-influx cities. We then analyze a small subset of similar cities as determined by the dendrogram obtained from clustering. Finally, we use GeoJSON\\* files consisting of postal code boundaries for the state of each city selected to produce choropleth maps based on top-rated venues residing within the postal code boundaries. The postal code boundaries that have the most top-rated venues are recommended for further investigation as to where within each city Company X might expand their services. We do all of this in the next section.\n",
    "\n",
    "\\* GeoJSON files that outline ZIP code boundaries by state can be found here: https://github.com/OpenDataDE/State-zip-code-GeoJSON"
   ]
  },
  {
   "cell_type": "markdown",
   "id": "c9b09f97-7af1-4632-a7f4-5c3f3103b2ff",
   "metadata": {},
   "source": [
    "## Results"
   ]
  },
  {
   "cell_type": "markdown",
   "id": "3eac537c-01cc-402a-a70d-057a70558a58",
   "metadata": {},
   "source": [
    "### Hierarchical Clustering"
   ]
  },
  {
   "cell_type": "markdown",
   "id": "b529197f-17ae-49cb-90f0-56e37600fc9c",
   "metadata": {},
   "source": [
    "Using the dataframe from Figure 4 we normalize the column data and perform agglomerative hierarchical clustering. See Figure 6 below for the dendrogram."
   ]
  },
  {
   "cell_type": "markdown",
   "id": "42238fea-05e8-4f32-807f-e24c1719ab29",
   "metadata": {},
   "source": [
    "![US Cities Dendrogram (shaded)](./Capstone_Report_Pics/venue_and_pop_dendrogram_shaded.png)\n",
    "\n",
    "*Figure 6: Dendrogram of 47 most populous US cities with at least +20% population change.*"
   ]
  },
  {
   "cell_type": "markdown",
   "id": "85559411-4bf9-4108-9660-a19dd4381746",
   "metadata": {},
   "source": [
    "A dendrogram can be understood through the height of each linkage/node. The nodes that have similar height are similar in nature according to the features used. Therefore, based on the dendrogram in Figure 6, we see that the five most alike cities according to top-rated venue types, population size, and population growth are contained within the sub-cluster in the lower-left corner of the green shaded cluster. The five cities are Denver, Colorado; Seattle, Washington; Fort Worth, Texas; Austin, Texas; and Charlotte, North Carolina. Because these five cities appear to be so similar we select them for further investigation."
   ]
  },
  {
   "cell_type": "markdown",
   "id": "6d0f44f3-79ca-4938-bf28-c05ba7681ff6",
   "metadata": {},
   "source": [
    "### Data Visualization"
   ]
  },
  {
   "cell_type": "markdown",
   "id": "96658386-f7af-4027-b591-cb6f013cc6f2",
   "metadata": {},
   "source": [
    "#### Denver, Colorado"
   ]
  },
  {
   "cell_type": "markdown",
   "id": "8f05202e-c96a-436e-86ac-46f9214bc691",
   "metadata": {},
   "source": [
    "We first investigate the top-rated venues of Denver, Colorado. See Figure 7 for the 100 top-rated venues located within 16.1 km of Denver's city center. See Figure 8 for the distribution of Denver's top-rated venues grouped by ZIP code. Finally, see Figure 9 for a choropleth map grouped by ZIP code boundary and colored according to top-rated venue counts within each boundary."
   ]
  },
  {
   "cell_type": "markdown",
   "id": "49774f32-820a-4414-8ad9-6077550cd13f",
   "metadata": {
    "tags": []
   },
   "source": [
    "![](./Capstone_Report_Pics/denver_venues.png)\n",
    "\n",
    "*Figure 7: Map of 100 top-rated venues returend by Foursquare API for Denver, Colorado.*"
   ]
  },
  {
   "cell_type": "markdown",
   "id": "dba701bb-9b73-46b5-b595-a8fcd53a2859",
   "metadata": {},
   "source": [
    "![](./Capstone_Report_Pics/Denver_Distr_by_zip.png)\n",
    "\n",
    "*Figure 8: Bar graph of Denver's top-rated venues grouped by postal code.*"
   ]
  },
  {
   "cell_type": "markdown",
   "id": "7a1cc3f2-86d5-4e57-9b35-0039b21dee24",
   "metadata": {},
   "source": [
    "![](./Capstone_Report_Pics/denver_choropleth_zip.png)\n",
    "\n",
    "*Figure 9: Choropleth map of Denver's postal code boundaries by total top-rated venue counts within each postal code boundary.*"
   ]
  },
  {
   "cell_type": "markdown",
   "id": "4e81de1a-49b1-44fb-b815-2afa2f3c6fdb",
   "metadata": {},
   "source": [
    "#### Seattle, Washington"
   ]
  },
  {
   "cell_type": "markdown",
   "id": "4efc5684-5afd-4f66-b092-345dd3446254",
   "metadata": {},
   "source": [
    "Next we investigate the top-rated venues of Seattle, Washington. See Figure 10 for the 100 top-rated venues located within 16.1 km of Seattle's city center. See Figure 11 for the distribution of Seattle's top-rated venues grouped by ZIP code. Finally, see Figure 12 for a choropleth map grouped by ZIP code boundary and colored according to top-rated venue counts within each boundary."
   ]
  },
  {
   "cell_type": "markdown",
   "id": "bca12e40-77d0-4ff2-9f62-39d6e63b85d3",
   "metadata": {},
   "source": [
    "![](./Capstone_Report_Pics/seattle_venues.png)\n",
    "\n",
    "*Figure 10: Map of 100 top-rated venues returend by Foursquare API for Seattle, Washington.*"
   ]
  },
  {
   "cell_type": "markdown",
   "id": "bf5bc7cb-2e11-4da1-bbef-0fef64cf61de",
   "metadata": {},
   "source": [
    "![](./Capstone_Report_Pics/seattle_distr_by_zip.png)\n",
    "\n",
    "*Figure 11: Bar graph of Seattle's top-rated venues grouped by postal code.*"
   ]
  },
  {
   "cell_type": "markdown",
   "id": "4d1826ca-f21c-4530-b811-39672e81d855",
   "metadata": {},
   "source": [
    "![](./Capstone_Report_Pics/seattle_choropleth_zip.png)\n",
    "\n",
    "*Figure 12: Choropleth map of Seattle's postal code boundaries by total top-rated venue counts within each postal code boundary.*"
   ]
  },
  {
   "cell_type": "markdown",
   "id": "b4a23ca7-5ca7-4301-9182-cea71e051207",
   "metadata": {},
   "source": [
    "#### Charlotte, North Carolina"
   ]
  },
  {
   "cell_type": "markdown",
   "id": "72102997-512c-414d-8937-d8d7e92e67e5",
   "metadata": {},
   "source": [
    "Next we investigate the top-rated venues of Charlotte, North Carolina. See Figure 13 for the 100 top-rated venues located within 16.1 km of Charlotte's city center. See Figure 14 for the distribution of Charlotte's top-rated venues grouped by ZIP code. Finally, see Figure 15 for a choropleth map grouped by ZIP code boundary and colored according to top-rated venue counts within each boundary."
   ]
  },
  {
   "cell_type": "markdown",
   "id": "bf91475c-9ee8-4309-99de-e2f744ed4581",
   "metadata": {},
   "source": [
    "![](./Capstone_Report_Pics/charlotte_venues.png)\n",
    "\n",
    "*Figure 13: Map of 100 top-rated venues returend by Foursquare API for Charlotte, North Carolina.*"
   ]
  },
  {
   "cell_type": "markdown",
   "id": "7fa8e2da-f198-4d26-928e-7397c6f93340",
   "metadata": {},
   "source": [
    "![](./Capstone_Report_Pics/charlotte_distr_by_zip.png)\n",
    "\n",
    "*Figure 14: Bar graph of Charlotte's top-rated venues grouped by postal code.*"
   ]
  },
  {
   "cell_type": "markdown",
   "id": "f039620d-e0f3-420a-b7d2-7251afa8ba0c",
   "metadata": {},
   "source": [
    "![](./Capstone_Report_Pics/charlotte_choropleth_zip.png)\n",
    "\n",
    "*Figure 15: Choropleth map of Charlotte's postal code boundaries by total top-rated venue counts within each postal code boundary.*"
   ]
  },
  {
   "cell_type": "markdown",
   "id": "929b9fe4-2cd4-4a07-84e4-8116a7471ae6",
   "metadata": {},
   "source": [
    "#### Austin, Texas"
   ]
  },
  {
   "cell_type": "markdown",
   "id": "bde94ea6-8eaf-4b3f-974e-bc847b703f49",
   "metadata": {},
   "source": [
    "Next we investigate the top-rated venues of Austin, Texas. See Figure 16 for the 100 top-rated venues located within 16.1 km of Austin's city center. See Figure 17 for the distribution of Austin's top-rated venues grouped by ZIP code. Finally, see Figure 18 for a choropleth map grouped by ZIP code boundary and colored according to top-rated venue counts within each boundary."
   ]
  },
  {
   "cell_type": "markdown",
   "id": "a17d4831-c880-45ed-aa3f-1b20d3398d2b",
   "metadata": {},
   "source": [
    "![](./Capstone_Report_Pics/austin_venues.png)\n",
    "\n",
    "*Figure 16: Map of 100 top-rated venues returend by Foursquare API for Austin, Texas.*"
   ]
  },
  {
   "cell_type": "markdown",
   "id": "796cd182-52b1-4893-b5ae-7a1c9be14b37",
   "metadata": {},
   "source": [
    "![](./Capstone_Report_Pics/austin_distr_by_zip.png)\n",
    "\n",
    "*Figure 17: Bar graph of Austin's top-rated venues grouped by postal code.*"
   ]
  },
  {
   "cell_type": "markdown",
   "id": "969d9469-b26b-4aec-8808-a9d824019b1d",
   "metadata": {},
   "source": [
    "![](./Capstone_Report_Pics/austin_choropleth_zip.png)\n",
    "\n",
    "*Figure 18: Choropleth map of Austin's postal code boundaries by total top-rated venue counts within each postal code boundary.*"
   ]
  },
  {
   "cell_type": "markdown",
   "id": "02705f16-a112-46fb-9ef5-55dd3910df10",
   "metadata": {},
   "source": [
    "#### Fort Worth, Texas"
   ]
  },
  {
   "cell_type": "markdown",
   "id": "e0a80318-20ba-4e90-9cc0-f1e317e5ceca",
   "metadata": {},
   "source": [
    "Lastly, we investigate the top-rated venues of Fort Worth, Texas. See Figure 19 for the 100 top-rated venues located within 16.1 km of Fort Worth's city center. See Figure 20 for the distribution of Fort Worth's top-rated venues grouped by ZIP code. Finally, see Figure 21 for a choropleth map grouped by ZIP code boundary and colored according to top-rated venue counts within each boundary."
   ]
  },
  {
   "cell_type": "markdown",
   "id": "02d7a3b7-299c-43e7-8e70-2f2878dd547d",
   "metadata": {},
   "source": [
    "![](./Capstone_Report_Pics/fort_worth_venues.png)\n",
    "\n",
    "*Figure 19: Map of 100 top-rated venues returend by Foursquare API for Fort Worth, Texas.*"
   ]
  },
  {
   "cell_type": "markdown",
   "id": "ef50a92a-13cf-495e-aa13-96abbc348526",
   "metadata": {},
   "source": [
    "![](./Capstone_Report_Pics/fort_worth_distr_by_zip.png)\n",
    "\n",
    "*Figure 20: Bar graph of Fort Worth's top-rated venues grouped by postal code.*"
   ]
  },
  {
   "cell_type": "markdown",
   "id": "3074acf7-ffa4-40d6-87b6-d4554b1aa3c4",
   "metadata": {},
   "source": [
    "![](./Capstone_Report_Pics/fort_worth_choropleth_zip.png)\n",
    "\n",
    "*Figure 21: Choropleth map of Fort Worth's postal code boundaries by total top-rated venue counts within each postal code boundary.*"
   ]
  },
  {
   "cell_type": "markdown",
   "id": "76efddce-a6b8-4087-bdd5-58eab6bc2cf1",
   "metadata": {},
   "source": [
    "## Discussion"
   ]
  },
  {
   "cell_type": "markdown",
   "id": "8a919317-6cf1-499c-9a63-b34bfe7c1bf0",
   "metadata": {},
   "source": [
    "First, we must address the fact that for the purpose of this work we do not have a specified goods or services rendered by Company X. In a real-world scenario we would likely have this information and should take this information into account. The author of this work, however, was interested as to what findings and similarities might emerge regardless of venue type Company X might be offering.\n",
    "\n",
    "Additionally, we need to be aware that the effort exerted thus far is a preliminary investigation. There are likely several other factors that should be considered before actual expansion occurs. Leveraging the Foursquare API with more than 100 top-rated venues would likely be beneficial, and venue type is not necessarily well organized in the sense that Foursquare can return venues with similar, yet disticnt string names (e.g. one venue might be listed with the category \"American\", and another venue might be listed with the category \"American Restaurant,\" which would essentially be part of the same venue type). For the sake of time, these issues were not addressed in this work, but should be addressed in future work.\n",
    "\n",
    "With the caveats noted above, we can now proceed to discuss the results found in the previous section. According to the features used to produce the dendrogram and choropleth maps in the Results section, we recommend the following for each respective city."
   ]
  },
  {
   "cell_type": "markdown",
   "id": "c3494eb6-4c29-477e-8f80-d9971e23eb47",
   "metadata": {},
   "source": [
    "### Denver, Colorado\n",
    "\n",
    "The two most popular ZIP codes in Denver appear to be $80205$ and $80206$. These two ZIP code boundaries are right next to each other and are clearly visible in dark purple in Denver's choropleth map (see Figure 9). These are the areas in Denver, Colorado that are recommended to be investigated further by Company X."
   ]
  },
  {
   "cell_type": "markdown",
   "id": "892d10a3-efd7-4cd9-b092-44d0a530e88e",
   "metadata": {},
   "source": [
    "### Seattle, Washington\n",
    "\n",
    "The most popular ZIP codes in the Seattle area appear to be $98101$, $98109$, $98121$, and $98122$, and their boundaries appear in dark purple in Seattle's choropleth map (see Figure 12). It is recommended that Company X investigate these areas in Seattle, Washington."
   ]
  },
  {
   "cell_type": "markdown",
   "id": "ef651ae5-0343-4f17-8f32-71d3cd0deb41",
   "metadata": {},
   "source": [
    "### Charlotte, North Carolina\n",
    "\n",
    "The most popular ZIP codes in Charlotte, North Carolina appear to be $28202$, and $28203$, and their boundaries appear in dark purple in Charlotte's choropleth map (see Figure 15). It is recommended that Company X investigate these areas in Charlotte, North Carolina."
   ]
  },
  {
   "cell_type": "markdown",
   "id": "e3dcf04d-9242-4d8f-a4b1-21f685fac96f",
   "metadata": {},
   "source": [
    "### Austin, Texas\n",
    "\n",
    "The most popular ZIP code in Austin, Texas appears to be $78701$, and its boundary appears in dark purple in Austin's choropleth map (see Figure 18). The second best ZIP code appears to be $78703$, which is the next darkest shade of purple. It is recommended that Company X investigate these areas in Austin, Texas."
   ]
  },
  {
   "cell_type": "markdown",
   "id": "a13f0625-a297-4c29-95db-00893d68de27",
   "metadata": {},
   "source": [
    "### Fort Worth, Texas\n",
    "\n",
    "The most popular ZIP code in Fort Worth, Texas appears to be $76107$, and its boundary appears in dark purple in Fort Worth's choropleth map (see Figure 21). The second best ZIP code appears to be $76102$ which is the next darkest shade of purple. It is recommended that Company X investigate these areas in Fort Worth, Texas."
   ]
  },
  {
   "cell_type": "markdown",
   "id": "4b2e4718-ac32-4e5b-9969-1d82193e29a7",
   "metadata": {},
   "source": [
    "### Further Geographic Considerations\n",
    "\n",
    "Since both Austin and Fort Worth have strong similarity based on the dendrogram (see Figure 6), and since the state of Texas contains several high-influx cities (see Figure 3), a logical first choice for expansion amonst all five cities would be either Austin, Texas; Fort Worth, Texas; or both. This would create several future expansion opportunities since Texas shows a growing population, and a presence in the state would allow for inexpensive advertising via word-of-mouth for those who live within city limits and for travelers within the state. Furthermore, the other three cities outside of Texas, based again on the similarity from the dendrogram (see Figure 6), would allow for expansion into several scattered positions throughout the US and thus establish locations that have high potential for success in multiple regions of the US: northwestern, midwestern, southwestern, and eastern United States."
   ]
  },
  {
   "cell_type": "markdown",
   "id": "b11b34d8-6ead-4fc7-80c4-bd2ea794b787",
   "metadata": {},
   "source": [
    "## Conclusion"
   ]
  },
  {
   "cell_type": "markdown",
   "id": "05e23351-e57d-4594-891d-ab8d3aad4c75",
   "metadata": {},
   "source": [
    "Based on the results of the dendrogram produced by hierarchical clustering of high-influx cities and choropleth maps for the five most alike cities, the recommendation for Company X is to investigate possible expansion of their services to either Austin, Texas or Fort Worth, Texas. Furthermore, the postal code boudnaries located within Austin, Texas that appear to be of most interest are $78701$ and $78703$, and the postal code boundaries located within Fort Worth, Texas that appear to be of most interest are $76107$ and $76102$.\n",
    "\n",
    "The caveats noted in the Discussion section should be addressed in the future and after which these recommendations can be reviewed and revised as necessary."
   ]
  },
  {
   "cell_type": "markdown",
   "id": "d1dbb185-480b-412e-bac1-68d829f6045e",
   "metadata": {},
   "source": [
    "## References"
   ]
  },
  {
   "cell_type": "markdown",
   "id": "387b17b3-eedf-4fd9-a70b-45f43d5872ce",
   "metadata": {},
   "source": [
    "1. “List of United States cities by population.” Wikipedia, Wikimedia Foundation, 08 August 2021, https://en.wikipedia.org/wiki/List_of_United_States_cities_by_population.\n",
    "\n",
    "2. \"OpenDataDE/State-zip-code-GeoJSON.\" GitHub, 08 August 2021, https://github.com/OpenDataDE/State-zip-code-GeoJSON.\n",
    "\n",
    "3. \"Hierarchical clustering.\" Wikimedia Foundation, 08 August 2021, https://en.wikipedia.org/wiki/Hierarchical_clustering."
   ]
  },
  {
   "cell_type": "markdown",
   "id": "b91970b2-3a96-429c-858e-0e1c040ca4bc",
   "metadata": {},
   "source": [
    "## Acknowlegements"
   ]
  },
  {
   "cell_type": "markdown",
   "id": "6661adc2-0f4e-41ce-8285-f6c74e8a2362",
   "metadata": {},
   "source": [
    "The Coursera labs demonstrating the Foursquare API were vital to completing this project and I expect will be a vital tool moving forward in my pursuit of additional data science projects. I am grateful to the instructors of this course and for their shared knowledge.\n",
    "\n",
    "Also, thank you, to whom it may concern, for grading this project."
   ]
  }
 ],
 "metadata": {
  "kernelspec": {
   "display_name": "Python 3",
   "language": "python",
   "name": "python3"
  },
  "language_info": {
   "codemirror_mode": {
    "name": "ipython",
    "version": 3
   },
   "file_extension": ".py",
   "mimetype": "text/x-python",
   "name": "python",
   "nbconvert_exporter": "python",
   "pygments_lexer": "ipython3",
   "version": "3.8.8"
  },
  "toc-autonumbering": true,
  "toc-showcode": false,
  "toc-showmarkdowntxt": false,
  "toc-showtags": true
 },
 "nbformat": 4,
 "nbformat_minor": 5
}
